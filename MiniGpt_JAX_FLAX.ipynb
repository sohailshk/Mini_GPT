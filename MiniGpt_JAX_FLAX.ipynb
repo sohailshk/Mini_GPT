{
  "nbformat": 4,
  "nbformat_minor": 0,
  "metadata": {
    "colab": {
      "provenance": [],
      "gpuType": "V28"
    },
    "kernelspec": {
      "name": "python3",
      "display_name": "Python 3"
    },
    "language_info": {
      "name": "python"
    },
    "accelerator": "TPU"
  },
  "cells": [
    {
      "cell_type": "markdown",
      "source": [
        "✅ What We'll Build (Prototype Overview)\n",
        "We'll re-implement a miniature Transformer-based language model using:\n",
        "\n",
        "JAX: For efficient array ops, autograd, and transformations\n",
        "\n",
        "Flax: For defining model modules and managing parameters/state\n",
        "\n",
        "We’ll:\n",
        "\n",
        "Build a simple tokenizer and dataset loader (we can use a small subset of text like Tiny Shakespeare).\n",
        "\n",
        "Define key building blocks:\n",
        "\n",
        "Embedding Layer\n",
        "\n",
        "Multi-head Self-Attention\n",
        "\n",
        "Feedforward Layer\n",
        "\n",
        "Transformer Block\n",
        "\n",
        "Stack these into a MiniGPT-like model (decoder-only transformer)\n",
        "\n",
        "Write training loop and inference (text generation)\n",
        "\n",
        "Comment, document, and structure everything neatly."
      ],
      "metadata": {
        "id": "2N-8_df-qUgB"
      }
    },
    {
      "cell_type": "markdown",
      "source": [
        "📘 Structure of the Notebook\n",
        "📌 1. Setup\n",
        "Install and import necessary libraries\n",
        "\n",
        "Set random seeds\n",
        "\n",
        "📌 2. Data Preparation\n",
        "Load a simple text dataset\n",
        "\n",
        "Build a vocabulary and tokenizer\n",
        "\n",
        "Encode data into input/output pairs\n",
        "\n",
        "📌 3. Model Definition with Flax\n",
        "Define each component:\n",
        "\n",
        "Token + Positional Embedding\n",
        "\n",
        "Self-Attention + Layer Norm + Residual\n",
        "\n",
        "Feed Forward\n",
        "\n",
        "Transformer block\n",
        "\n",
        "Final model (GPT-style)\n",
        "\n",
        "📌 4. Training Loop\n",
        "Cross-entropy loss\n",
        "\n",
        "Adam optimizer\n",
        "\n",
        "Batch processing\n",
        "\n",
        "Train over few epochs\n",
        "\n",
        "📌 5. Inference (Text Generation)\n",
        "Sample next tokens\n",
        "\n",
        "Autoregressive generation\n",
        "\n",
        "📌 6. Documentation + Explanation\n",
        "Inline markdown cells to explain each block\n",
        "\n",
        "Comments in code to describe logic"
      ],
      "metadata": {
        "id": "9sj7sO9tqaJp"
      }
    },
    {
      "cell_type": "code",
      "source": [],
      "metadata": {
        "id": "9GEQIxCfreZf"
      },
      "execution_count": 14,
      "outputs": []
    },
    {
      "cell_type": "code",
      "execution_count": 15,
      "metadata": {
        "id": "-1K27pq5qQxy"
      },
      "outputs": [],
      "source": [
        "# JAX + Flax GPT-like model prototype (MiniGPT)\n",
        "\n",
        "# Install Flax if needed\n",
        "# !pip install -q flax datasets\n",
        "\n",
        "import jax\n",
        "import jax.numpy as jnp\n",
        "from flax import linen as nn\n",
        "from flax.training import train_state\n",
        "import optax\n",
        "import numpy as np\n",
        "import random\n",
        "import re\n",
        "import time\n",
        "from typing import Any, Callable, Optional, Sequence\n",
        "\n",
        "# Reproducibility\n",
        "seed = 42\n",
        "np.random.seed(seed)\n",
        "random.seed(seed)\n",
        "jax_rng = jax.random.PRNGKey(seed)\n"
      ]
    },
    {
      "cell_type": "markdown",
      "source": [
        "📚 Part 2: Load Tiny Shakespeare Dataset & Tokenizer"
      ],
      "metadata": {
        "id": "XJzS5OLlqjGZ"
      }
    },
    {
      "cell_type": "code",
      "source": [
        "import requests\n",
        "\n",
        "# Download Tiny Shakespeare Dataset\n",
        "url = 'https://raw.githubusercontent.com/karpathy/char-rnn/master/data/tinyshakespeare/input.txt'\n",
        "data = requests.get(url).text\n",
        "\n",
        "# Simple character-level tokenizer\n",
        "chars = sorted(list(set(data)))\n",
        "vocab_size = len(chars)\n",
        "stoi = {ch: i for i, ch in enumerate(chars)}\n",
        "itos = {i: ch for ch, i in stoi.items()}\n",
        "\n",
        "def encode(s):\n",
        "    return [stoi[c] for c in s]\n",
        "\n",
        "def decode(l):\n",
        "    return ''.join([itos[i] for i in l])\n",
        "\n",
        "print(f\"Dataset length: {len(data)} characters\")\n",
        "print(f\"Vocab size: {vocab_size}\")\n"
      ],
      "metadata": {
        "colab": {
          "base_uri": "https://localhost:8080/"
        },
        "id": "LE06yThGqhan",
        "outputId": "62c51261-5870-4b91-ce54-9a474dbb39af"
      },
      "execution_count": 16,
      "outputs": [
        {
          "output_type": "stream",
          "name": "stdout",
          "text": [
            "Dataset length: 1115394 characters\n",
            "Vocab size: 65\n"
          ]
        }
      ]
    },
    {
      "cell_type": "markdown",
      "source": [
        "🔄 Part 3: Prepare Dataset (Block-wise)"
      ],
      "metadata": {
        "id": "2uDJOySXqoDw"
      }
    },
    {
      "cell_type": "code",
      "source": [
        "# Convert to tokens\n",
        "data_ids = np.array(encode(data), dtype=np.int32)\n",
        "\n",
        "# Train/test split\n",
        "split_idx = int(0.9 * len(data_ids))\n",
        "train_data = data_ids[:split_idx]\n",
        "val_data = data_ids[split_idx:]\n",
        "\n",
        "# Parameters\n",
        "block_size = 128  # input sequence length\n",
        "batch_size = 32   # training batch size\n",
        "\n",
        "def get_batch(split, batch_size=32):\n",
        "    data = train_data if split == 'train' else val_data\n",
        "    ix = np.random.randint(0, len(data) - block_size, (batch_size,))\n",
        "    x = np.stack([data[i:i+block_size] for i in ix])\n",
        "    y = np.stack([data[i+1:i+block_size+1] for i in ix])\n",
        "    return {'x': jnp.array(x), 'y': jnp.array(y)}\n",
        "\n"
      ],
      "metadata": {
        "id": "PQc3P3ZGqgp-"
      },
      "execution_count": 17,
      "outputs": []
    },
    {
      "cell_type": "markdown",
      "source": [
        "🧱 Part 4: Define Transformer Model in Flax"
      ],
      "metadata": {
        "id": "Evm-ts18qvJR"
      }
    },
    {
      "cell_type": "code",
      "source": [
        "class SelfAttention(nn.Module):\n",
        "    n_heads: int\n",
        "    n_embd: int\n",
        "\n",
        "    @nn.compact\n",
        "    def __call__(self, x):\n",
        "        B, T, C = x.shape\n",
        "        head_dim = C // self.n_heads\n",
        "        assert C % self.n_heads == 0\n",
        "\n",
        "        qkv = nn.Dense(C * 3)(x)\n",
        "        q, k, v = jnp.split(qkv, 3, axis=-1)\n",
        "        q = q.reshape(B, T, self.n_heads, head_dim).transpose(0, 2, 1, 3)\n",
        "        k = k.reshape(B, T, self.n_heads, head_dim).transpose(0, 2, 1, 3)\n",
        "        v = v.reshape(B, T, self.n_heads, head_dim).transpose(0, 2, 1, 3)\n",
        "\n",
        "        attn_weights = jnp.einsum('bhqd,bhkd->bhqk', q, k) / jnp.sqrt(head_dim)\n",
        "        mask = jnp.tril(jnp.ones((T, T)))\n",
        "        attn_weights = jnp.where(mask == 0, -1e10, attn_weights)\n",
        "        attn_weights = nn.softmax(attn_weights, axis=-1)\n",
        "\n",
        "        attn_output = jnp.einsum('bhqk,bhkd->bhqd', attn_weights, v)\n",
        "        attn_output = attn_output.transpose(0, 2, 1, 3).reshape(B, T, C)\n",
        "\n",
        "        return nn.Dense(C)(attn_output)\n",
        "\n",
        "class FeedForward(nn.Module):\n",
        "    n_embd: int\n",
        "\n",
        "    @nn.compact\n",
        "    def __call__(self, x):\n",
        "        return nn.Sequential([\n",
        "            nn.Dense(4 * self.n_embd),\n",
        "            nn.gelu,\n",
        "            nn.Dense(self.n_embd)\n",
        "        ])(x)\n",
        "\n",
        "class TransformerBlock(nn.Module):\n",
        "    n_heads: int\n",
        "    n_embd: int\n",
        "\n",
        "    @nn.compact\n",
        "    def __call__(self, x):\n",
        "        x = x + SelfAttention(self.n_heads, self.n_embd)(nn.LayerNorm()(x))\n",
        "        x = x + FeedForward(self.n_embd)(nn.LayerNorm()(x))\n",
        "        return x\n",
        "\n",
        "class MiniGPT(nn.Module):\n",
        "    vocab_size: int\n",
        "    n_embd: int = 128\n",
        "    n_heads: int = 4\n",
        "    n_layers: int = 2\n",
        "    block_size: int = 128\n",
        "\n",
        "    def setup(self):\n",
        "        self.token_emb = nn.Embed(self.vocab_size, self.n_embd)\n",
        "        self.pos_emb = self.param('pos_emb', jax.nn.initializers.normal(stddev=0.01), (1, self.block_size, self.n_embd))\n",
        "        self.blocks = [TransformerBlock(self.n_heads, self.n_embd) for _ in range(self.n_layers)]\n",
        "        self.ln_f = nn.LayerNorm()\n",
        "        self.head = nn.Dense(self.vocab_size)\n",
        "\n",
        "    def __call__(self, x):\n",
        "        B, T = x.shape\n",
        "        tok = self.token_emb(x)\n",
        "        x = tok + self.pos_emb[:, :T, :]\n",
        "\n",
        "        for block in self.blocks:\n",
        "            x = block(x)\n",
        "\n",
        "        x = self.ln_f(x)\n",
        "        logits = self.head(x)\n",
        "        return logits\n"
      ],
      "metadata": {
        "id": "lo8OHIaGqgid"
      },
      "execution_count": 18,
      "outputs": []
    },
    {
      "cell_type": "markdown",
      "source": [
        "🚀 Part 5: Training State, Loss, and Step Function"
      ],
      "metadata": {
        "id": "VZ8OPOutq-QS"
      }
    },
    {
      "cell_type": "code",
      "source": [
        "# 🔧 Helper: Create training state using Flax's train_state\n",
        "def create_train_state(rng, model, learning_rate):\n",
        "    params = model.init(rng, jnp.ones((1, block_size), dtype=jnp.int32))  # dummy input to initialize weights\n",
        "    tx = optax.adamw(learning_rate)\n",
        "    return train_state.TrainState.create(apply_fn=model.apply, params=params, tx=tx)\n",
        "\n",
        "# 📉 Loss Function: Cross entropy loss\n",
        "def compute_loss(logits, targets):\n",
        "    vocab_size = logits.shape[-1]\n",
        "    logits = logits.reshape(-1, vocab_size)\n",
        "    targets = targets.reshape(-1)\n",
        "    one_hot_targets = jax.nn.one_hot(targets, vocab_size)\n",
        "    loss = optax.softmax_cross_entropy(logits, one_hot_targets).mean()\n",
        "    return loss\n",
        "\n",
        "@jax.jit\n",
        "def train_step(state, batch):\n",
        "    def loss_fn(params):\n",
        "        # Remove the extra nesting - pass params directly\n",
        "        logits = state.apply_fn(params, batch['x'])\n",
        "        loss = optax.softmax_cross_entropy_with_integer_labels(\n",
        "            logits, batch['y']).mean()\n",
        "        return loss\n",
        "\n",
        "    grad_fn = jax.value_and_grad(loss_fn)\n",
        "    loss, grads = grad_fn(state.params)\n",
        "    state = state.apply_gradients(grads=grads)\n",
        "    return state, loss\n"
      ],
      "metadata": {
        "id": "dvR7QDHPqgek"
      },
      "execution_count": 19,
      "outputs": []
    },
    {
      "cell_type": "markdown",
      "source": [
        "🏋️‍♀️ Part 6: Train the Model"
      ],
      "metadata": {
        "id": "iTaa222FrH8Q"
      }
    },
    {
      "cell_type": "code",
      "source": [
        "import matplotlib.pyplot as plt\n",
        "import time\n",
        "\n",
        "# Assuming `train_step`, `get_batch`, and `state` are defined as in previous cells\n",
        "\n",
        "# Initialize training parameters\n",
        "num_epochs = 10\n",
        "steps_per_epoch = 250\n",
        "loss_history = []\n",
        "\n",
        "# Initialize the model and training state before the training loop\n",
        "# Create an instance of the MiniGPT model\n",
        "model = MiniGPT(vocab_size=vocab_size)\n",
        "\n",
        "# Define a learning rate\n",
        "learning_rate = 1e-3\n",
        "\n",
        "# Create the training state\n",
        "rng = jax.random.PRNGKey(seed)  # Using the same seed for reproducibility\n",
        "state = create_train_state(rng, model, learning_rate)\n",
        "\n",
        "print(\"🚀 Starting training...\")\n",
        "for epoch in range(num_epochs):\n",
        "    t0 = time.time()\n",
        "    epoch_loss = 0.0\n",
        "    for step in range(steps_per_epoch):\n",
        "        batch = get_batch('train')\n",
        "        state, loss = train_step(state, batch)  # Modified train_step must return loss\n",
        "        epoch_loss += loss\n",
        "        if step % 50 == 0:\n",
        "            print(f\"  Step {step}/{steps_per_epoch} | Loss: {loss:.4f}\")\n",
        "\n",
        "    avg_loss = epoch_loss / steps_per_epoch\n",
        "    loss_history.append(avg_loss)\n",
        "    print(f\"✅ Epoch {epoch+1}/{num_epochs} completed in {time.time() - t0:.2f}s | Avg Loss: {avg_loss:.4f}\")\n",
        "\n",
        "# Plotting the loss curve\n",
        "plt.figure(figsize=(8, 5))\n",
        "plt.plot(range(1, num_epochs + 1), loss_history, marker='o', linestyle='-')\n",
        "plt.title('Training Loss Curve')\n",
        "plt.xlabel('Epoch')\n",
        "plt.ylabel('Average Loss')\n",
        "plt.grid(True)\n",
        "plt.show()"
      ],
      "metadata": {
        "colab": {
          "base_uri": "https://localhost:8080/",
          "height": 1000
        },
        "id": "JeDBrqxFqga0",
        "outputId": "7f2d09e3-3046-410e-80bb-8d556ad1d06b"
      },
      "execution_count": 20,
      "outputs": [
        {
          "output_type": "stream",
          "name": "stdout",
          "text": [
            "🚀 Starting training...\n",
            "  Step 0/250 | Loss: 4.6060\n",
            "  Step 50/250 | Loss: 2.5658\n",
            "  Step 100/250 | Loss: 2.5321\n",
            "  Step 150/250 | Loss: 2.4259\n",
            "  Step 200/250 | Loss: 2.3854\n",
            "✅ Epoch 1/10 completed in 3.25s | Avg Loss: 2.5704\n",
            "  Step 0/250 | Loss: 2.4006\n",
            "  Step 50/250 | Loss: 2.3624\n",
            "  Step 100/250 | Loss: 2.2633\n",
            "  Step 150/250 | Loss: 2.2197\n",
            "  Step 200/250 | Loss: 2.1558\n",
            "✅ Epoch 2/10 completed in 0.65s | Avg Loss: 2.2490\n",
            "  Step 0/250 | Loss: 2.0848\n",
            "  Step 50/250 | Loss: 1.9808\n",
            "  Step 100/250 | Loss: 1.9820\n",
            "  Step 150/250 | Loss: 1.9287\n",
            "  Step 200/250 | Loss: 1.8218\n",
            "✅ Epoch 3/10 completed in 0.65s | Avg Loss: 1.9186\n",
            "  Step 0/250 | Loss: 1.8207\n",
            "  Step 50/250 | Loss: 1.7665\n",
            "  Step 100/250 | Loss: 1.7057\n",
            "  Step 150/250 | Loss: 1.7177\n",
            "  Step 200/250 | Loss: 1.7037\n",
            "✅ Epoch 4/10 completed in 0.65s | Avg Loss: 1.7329\n",
            "  Step 0/250 | Loss: 1.6650\n",
            "  Step 50/250 | Loss: 1.5857\n",
            "  Step 100/250 | Loss: 1.6494\n",
            "  Step 150/250 | Loss: 1.6173\n",
            "  Step 200/250 | Loss: 1.6088\n",
            "✅ Epoch 5/10 completed in 0.65s | Avg Loss: 1.6312\n",
            "  Step 0/250 | Loss: 1.4952\n",
            "  Step 50/250 | Loss: 1.6577\n",
            "  Step 100/250 | Loss: 1.5881\n",
            "  Step 150/250 | Loss: 1.6120\n",
            "  Step 200/250 | Loss: 1.5508\n",
            "✅ Epoch 6/10 completed in 0.65s | Avg Loss: 1.5732\n",
            "  Step 0/250 | Loss: 1.5006\n",
            "  Step 50/250 | Loss: 1.5468\n",
            "  Step 100/250 | Loss: 1.5303\n",
            "  Step 150/250 | Loss: 1.5382\n",
            "  Step 200/250 | Loss: 1.5341\n",
            "✅ Epoch 7/10 completed in 0.65s | Avg Loss: 1.5337\n",
            "  Step 0/250 | Loss: 1.5041\n",
            "  Step 50/250 | Loss: 1.4830\n",
            "  Step 100/250 | Loss: 1.4640\n",
            "  Step 150/250 | Loss: 1.4671\n",
            "  Step 200/250 | Loss: 1.4617\n",
            "✅ Epoch 8/10 completed in 0.66s | Avg Loss: 1.5015\n",
            "  Step 0/250 | Loss: 1.4666\n",
            "  Step 50/250 | Loss: 1.4560\n",
            "  Step 100/250 | Loss: 1.5317\n",
            "  Step 150/250 | Loss: 1.4841\n",
            "  Step 200/250 | Loss: 1.4956\n",
            "✅ Epoch 9/10 completed in 0.65s | Avg Loss: 1.4727\n",
            "  Step 0/250 | Loss: 1.4611\n",
            "  Step 50/250 | Loss: 1.4560\n",
            "  Step 100/250 | Loss: 1.4592\n",
            "  Step 150/250 | Loss: 1.4670\n",
            "  Step 200/250 | Loss: 1.4525\n",
            "✅ Epoch 10/10 completed in 0.65s | Avg Loss: 1.4562\n"
          ]
        },
        {
          "output_type": "display_data",
          "data": {
            "text/plain": [
              "<Figure size 800x500 with 1 Axes>"
            ],
            "image/png": "[encoded data removed]"
          },
          "metadata": {}
        }
      ]
    },
    {
      "cell_type": "markdown",
      "source": [
        "🧠 Part 7: Text Generation Function"
      ],
      "metadata": {
        "id": "L7PTh8xArOmm"
      }
    },
    {
      "cell_type": "code",
      "source": [
        "# ✨ Sampling function to generate text from trained model\n",
        "def generate_text(state, start_text, length=200):\n",
        "    model = state.apply_fn\n",
        "    params = state.params\n",
        "    context = jnp.array(encode(start_text), dtype=jnp.int32)[None, :]  # shape (1, T)\n",
        "\n",
        "    for _ in range(length):\n",
        "        if context.shape[1] > block_size:\n",
        "            context = context[:, -block_size:]  # truncate to block size\n",
        "\n",
        "        # Pass params directly instead of wrapping in a dictionary\n",
        "        logits = model(params, context)\n",
        "        logits = logits[:, -1, :]  # get last token's logits\n",
        "        probs = jax.nn.softmax(logits, axis=-1)\n",
        "        next_token = jax.random.categorical(jax.random.PRNGKey(random.randint(0, 10000)), logits)\n",
        "        context = jnp.concatenate([context, next_token[:, None]], axis=1)\n",
        "\n",
        "    return decode(context[0].tolist())\n",
        "\n",
        "# 🔍 Try generating sample text\n",
        "print(generate_text(state, start_text=\"ROMEO: \"))"
      ],
      "metadata": {
        "colab": {
          "base_uri": "https://localhost:8080/"
        },
        "id": "MoAiWS7uqgXt",
        "outputId": "c98c8624-8bdd-4848-8450-7c64caa906bb"
      },
      "execution_count": 21,
      "outputs": [
        {
          "output_type": "stream",
          "name": "stdout",
          "text": [
            "derer:\n",
            "Neve our minds; for i's behold\n",
            "wish prudght the others tongue. To to make truth:\n",
            "their? yowless here nevil stread?\n",
            "\n",
            "Third \n"
          ]
        }
      ]
    },
    {
      "cell_type": "markdown",
      "source": [
        "📘 Part 8: Notebook Documentation\n",
        "Add these as Markdown cells inside your notebook:\n",
        "\n",
        "📝 Project: MiniGPT Prototype with JAX & Flax\n",
        "This notebook implements a MiniGPT-like language model from scratch using the JAX + Flax framework. It serves as a well-documented prototype to demonstrate:\n",
        "\n",
        "Transformer architecture (Self-attention, MLP blocks)\n",
        "\n",
        "Character-level tokenization (Tiny Shakespeare dataset)\n",
        "\n",
        "Training loop and sampling\n",
        "\n",
        "Educational readability and extensibility\n",
        "\n",
        "💡 Features\n",
        "Fully functioning GPT model (2-layer, 4-head self-attention)\n",
        "\n",
        "Tiny Shakespeare dataset (~1MB) for fast prototyping\n",
        "\n",
        "Easy to extend for multi-head attention, masking, causal transformers\n",
        "\n",
        "Educational and GSoC-aligned code style\n",
        "\n",
        "📦 Dependencies\n",
        "bash\n",
        "Copy\n",
        "Edit\n",
        "pip install flax optax jax numpy requests\n",
        "✅ Summary\n",
        "What this notebook demonstrates:\n",
        "\n",
        "Your deep understanding of LLM internals.\n",
        "\n",
        "Strong ability to structure JAX/Flax code for readability and modularity.\n",
        "\n",
        "Alignment with open-source best practices (doc, reproducibility, simple examples).\n",
        "\n"
      ],
      "metadata": {
        "id": "SnDN3xkrrYO_"
      }
    }
  ]
}